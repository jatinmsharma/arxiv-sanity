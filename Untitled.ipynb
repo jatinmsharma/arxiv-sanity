{
 "cells": [
  {
   "cell_type": "code",
   "execution_count": 1,
   "metadata": {},
   "outputs": [],
   "source": [
    "from selenium import webdriver"
   ]
  },
  {
   "cell_type": "code",
   "execution_count": 2,
   "metadata": {},
   "outputs": [
    {
     "name": "stderr",
     "output_type": "stream",
     "text": [
      "/usr/local/lib/python3.5/dist-packages/selenium/webdriver/phantomjs/webdriver.py:49: UserWarning: Selenium support for PhantomJS has been deprecated, please use headless versions of Chrome or Firefox instead\n",
      "  warnings.warn('Selenium support for PhantomJS has been deprecated, please use headless '\n"
     ]
    }
   ],
   "source": [
    "driver = webdriver.PhantomJS(executable_path=\"/usr/lib/node_modules/phantomjs-prebuilt/lib/phantom/bin/phantomjs\")"
   ]
  },
  {
   "cell_type": "code",
   "execution_count": 10,
   "metadata": {},
   "outputs": [
    {
     "name": "stderr",
     "output_type": "stream",
     "text": [
      "/usr/local/lib/python3.5/dist-packages/selenium/webdriver/phantomjs/webdriver.py:49: UserWarning: Selenium support for PhantomJS has been deprecated, please use headless versions of Chrome or Firefox instead\n",
      "  warnings.warn('Selenium support for PhantomJS has been deprecated, please use headless '\n"
     ]
    }
   ],
   "source": [
    "from selenium import webdriver\n",
    "from selenium.webdriver.common.desired_capabilities import DesiredCapabilities\n",
    "from selenium.common.exceptions import NoSuchElementException\n",
    "dcap = dict(DesiredCapabilities.PHANTOMJS)\n",
    "dcap[\"phantomjs.page.settings.userAgent\"] = (\n",
    "     \"Mozilla/5.0 (X11; Linux x86_64) AppleWebKit/53 \"\n",
    "     \"(KHTML, like Gecko) Chrome/29.0.1547.57 Safari/537.36\")\n",
    "driver = webdriver.PhantomJS(desired_capabilities = dcap,service_args=['--ignore-ssl-errors=true', '--load-images=false'])\n",
    "driver.get(\"https://www.bing.com/search?q=da9c224c-5e2a-4d10-8ea1-a78c8394d403salesforce-bot_FYbOT1Lr8MM+bot&sf=bingbfc&mkt=en-us\")\n",
    "driver.implicitly_wait(5)\n",
    "try:\n",
    "    driver.find_element_by_class_name(\"size-buttons-show-size-chart\").click()\n",
    "    driver.implicitly_wait(10)\n",
    "    div_s = driver.find_elements_by_class_name(\"size-chart-cell\")\n",
    "    # div_s = driver.find_elements_by_xpath(\"\"\"//*[@id=\"mountRoot\"]/div/div/div/div[3]/div/div[2]/div[1]/table/tbody/tr\"\"\")\n",
    "    size_data = ''\n",
    "    for s in div_s:\n",
    "        print(str(s.text))\n",
    "except Exception as e:\n",
    "    print( \"NoSuchElementException\")"
   ]
  },
  {
   "cell_type": "code",
   "execution_count": 16,
   "metadata": {},
   "outputs": [
    {
     "ename": "TypeError",
     "evalue": "find_element_by_class_name() missing 1 required positional argument: 'name'",
     "output_type": "error",
     "traceback": [
      "\u001b[0;31m---------------------------------------------------------------------------\u001b[0m",
      "\u001b[0;31mTypeError\u001b[0m                                 Traceback (most recent call last)",
      "\u001b[0;32m<ipython-input-16-a8885d18d844>\u001b[0m in \u001b[0;36m<module>\u001b[0;34m()\u001b[0m\n\u001b[0;32m----> 1\u001b[0;31m \u001b[0mdriver\u001b[0m\u001b[0;34m.\u001b[0m\u001b[0mfind_element_by_class_name\u001b[0m\u001b[0;34m(\u001b[0m\u001b[0;34m)\u001b[0m\u001b[0;34m\u001b[0m\u001b[0m\n\u001b[0m",
      "\u001b[0;31mTypeError\u001b[0m: find_element_by_class_name() missing 1 required positional argument: 'name'"
     ]
    }
   ],
   "source": [
    "driver.find_element_by_class_name()"
   ]
  },
  {
   "cell_type": "code",
   "execution_count": null,
   "metadata": {},
   "outputs": [],
   "source": []
  }
 ],
 "metadata": {
  "kernelspec": {
   "display_name": "Python 3",
   "language": "python",
   "name": "python3"
  },
  "language_info": {
   "codemirror_mode": {
    "name": "ipython",
    "version": 3
   },
   "file_extension": ".py",
   "mimetype": "text/x-python",
   "name": "python",
   "nbconvert_exporter": "python",
   "pygments_lexer": "ipython3",
   "version": "3.5.2"
  }
 },
 "nbformat": 4,
 "nbformat_minor": 2
}
